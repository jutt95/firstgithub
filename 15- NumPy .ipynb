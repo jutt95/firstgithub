{
 "cells": [
  {
   "cell_type": "code",
   "execution_count": 1,
   "id": "1f566872",
   "metadata": {
    "scrolled": true
   },
   "outputs": [
    {
     "name": "stdout",
     "output_type": "stream",
     "text": [
      "Collecting package metadata (current_repodata.json): ...working... done\n",
      "Solving environment: ...working... done\n",
      "\n",
      "## Package Plan ##\n",
      "\n",
      "  environment location: C:\\Users\\Shafique\\anaconda3\n",
      "\n",
      "  added / updated specs:\n",
      "    - numpy\n",
      "\n",
      "\n",
      "The following packages will be downloaded:\n",
      "\n",
      "    package                    |            build\n",
      "    ---------------------------|-----------------\n",
      "    conda-4.11.0               |   py39haa95532_0        14.4 MB\n",
      "    ------------------------------------------------------------\n",
      "                                           Total:        14.4 MB\n",
      "\n",
      "The following packages will be UPDATED:\n",
      "\n",
      "  conda                               4.10.3-py39haa95532_0 --> 4.11.0-py39haa95532_0\n",
      "\n",
      "\n",
      "\n",
      "Downloading and Extracting Packages\n",
      "\n",
      "conda-4.11.0         | 14.4 MB   |            |   0% \n",
      "conda-4.11.0         | 14.4 MB   |            |   0% \n",
      "conda-4.11.0         | 14.4 MB   | 3          |   3% \n",
      "conda-4.11.0         | 14.4 MB   | 6          |   7% \n",
      "conda-4.11.0         | 14.4 MB   | #1         |  11% \n",
      "conda-4.11.0         | 14.4 MB   | #5         |  15% \n",
      "Note: you may need to restart the kernel to use updated packages.\n",
      "\n",
      "conda-4.11.0         | 14.4 MB   | #9         |  20% \n",
      "conda-4.11.0         | 14.4 MB   | ##4        |  25% \n",
      "conda-4.11.0         | 14.4 MB   | ##8        |  29% \n",
      "conda-4.11.0         | 14.4 MB   | ###3       |  34% \n",
      "conda-4.11.0         | 14.4 MB   | ###8       |  38% \n",
      "conda-4.11.0         | 14.4 MB   | ####2      |  43% \n",
      "conda-4.11.0         | 14.4 MB   | ####7      |  47% \n",
      "conda-4.11.0         | 14.4 MB   | #####1     |  52% \n",
      "conda-4.11.0         | 14.4 MB   | #####6     |  56% \n",
      "conda-4.11.0         | 14.4 MB   | ######     |  61% \n",
      "conda-4.11.0         | 14.4 MB   | ######5    |  65% \n",
      "conda-4.11.0         | 14.4 MB   | ######9    |  70% \n",
      "conda-4.11.0         | 14.4 MB   | #######3   |  74% \n",
      "conda-4.11.0         | 14.4 MB   | #######8   |  78% \n",
      "conda-4.11.0         | 14.4 MB   | ########2  |  83% \n",
      "conda-4.11.0         | 14.4 MB   | ########7  |  87% \n",
      "conda-4.11.0         | 14.4 MB   | #########2 |  92% \n",
      "conda-4.11.0         | 14.4 MB   | #########6 |  96% \n",
      "conda-4.11.0         | 14.4 MB   | ########## | 100% \n",
      "Preparing transaction: ...working... done\n",
      "Verifying transaction: ...working... done\n",
      "Executing transaction: ...working... done\n"
     ]
    }
   ],
   "source": [
    "conda install numpy"
   ]
  },
  {
   "cell_type": "code",
   "execution_count": 2,
   "id": "049bcd7d",
   "metadata": {},
   "outputs": [],
   "source": [
    "import numpy as np\n",
    "a = np.array([1, 2, 3])"
   ]
  },
  {
   "cell_type": "code",
   "execution_count": 20,
   "id": "e24377d9",
   "metadata": {},
   "outputs": [
    {
     "ename": "AttributeError",
     "evalue": "module 'numpy' has no attribute 'arrange'",
     "output_type": "error",
     "traceback": [
      "\u001b[1;31m---------------------------------------------------------------------------\u001b[0m",
      "\u001b[1;31mAttributeError\u001b[0m                            Traceback (most recent call last)",
      "\u001b[1;32m~\\AppData\\Local\\Temp/ipykernel_26312/2043345485.py\u001b[0m in \u001b[0;36m<module>\u001b[1;34m\u001b[0m\n\u001b[0;32m      1\u001b[0m \u001b[1;32mimport\u001b[0m \u001b[0mnumpy\u001b[0m \u001b[1;32mas\u001b[0m \u001b[0mnp\u001b[0m\u001b[1;33m\u001b[0m\u001b[1;33m\u001b[0m\u001b[0m\n\u001b[1;32m----> 2\u001b[1;33m \u001b[0ma\u001b[0m \u001b[1;33m=\u001b[0m \u001b[0mnp\u001b[0m\u001b[1;33m.\u001b[0m\u001b[0marrange\u001b[0m\u001b[1;33m(\u001b[0m\u001b[1;36m6\u001b[0m\u001b[1;33m)\u001b[0m\u001b[1;33m\u001b[0m\u001b[1;33m\u001b[0m\u001b[0m\n\u001b[0m\u001b[0;32m      3\u001b[0m \u001b[0ma2\u001b[0m\u001b[1;33m=\u001b[0m\u001b[0ma\u001b[0m\u001b[1;33m[\u001b[0m\u001b[0mnp\u001b[0m\u001b[1;33m.\u001b[0m\u001b[0mnewaxis\u001b[0m\u001b[1;33m,\u001b[0m\u001b[1;33m:\u001b[0m\u001b[1;33m]\u001b[0m\u001b[1;33m\u001b[0m\u001b[1;33m\u001b[0m\u001b[0m\n\u001b[0;32m      4\u001b[0m \u001b[0ma2\u001b[0m\u001b[1;33m.\u001b[0m\u001b[0mshape\u001b[0m\u001b[1;33m\u001b[0m\u001b[1;33m\u001b[0m\u001b[0m\n\u001b[0;32m      5\u001b[0m \u001b[1;33m(\u001b[0m\u001b[1;36m1\u001b[0m\u001b[1;33m,\u001b[0m\u001b[1;36m6\u001b[0m\u001b[1;33m)\u001b[0m\u001b[1;33m\u001b[0m\u001b[1;33m\u001b[0m\u001b[0m\n",
      "\u001b[1;32m~\\anaconda3\\lib\\site-packages\\numpy\\__init__.py\u001b[0m in \u001b[0;36m__getattr__\u001b[1;34m(attr)\u001b[0m\n\u001b[0;32m    301\u001b[0m                 \u001b[1;32mreturn\u001b[0m \u001b[0mTester\u001b[0m\u001b[1;33m\u001b[0m\u001b[1;33m\u001b[0m\u001b[0m\n\u001b[0;32m    302\u001b[0m \u001b[1;33m\u001b[0m\u001b[0m\n\u001b[1;32m--> 303\u001b[1;33m             raise AttributeError(\"module {!r} has no attribute \"\n\u001b[0m\u001b[0;32m    304\u001b[0m                                  \"{!r}\".format(__name__, attr))\n\u001b[0;32m    305\u001b[0m \u001b[1;33m\u001b[0m\u001b[0m\n",
      "\u001b[1;31mAttributeError\u001b[0m: module 'numpy' has no attribute 'arrange'"
     ]
    }
   ],
   "source": [
    "import numpy as np\n",
    "a = np.arrange(6)\n",
    "a2=a[np.newaxis,:]\n",
    "a2.shape\n",
    "(1,6)"
   ]
  },
  {
   "cell_type": "code",
   "execution_count": 19,
   "id": "8854208c",
   "metadata": {},
   "outputs": [
    {
     "data": {
      "text/plain": [
       "array([[1, 2, 3],\n",
       "       [4, 5, 6]])"
      ]
     },
     "execution_count": 19,
     "metadata": {},
     "output_type": "execute_result"
    }
   ],
   "source": [
    "import numpy as np\n",
    "#1D\n",
    "a = np.array([1, 2, 3])\n",
    "#2D\n",
    "a = np.array ([[1,2,3], [4,5,6]])\n",
    "a"
   ]
  },
  {
   "cell_type": "code",
   "execution_count": 21,
   "id": "282020f0",
   "metadata": {},
   "outputs": [
    {
     "data": {
      "text/plain": [
       "array([1, 2, 3, 4, 5])"
      ]
     },
     "execution_count": 21,
     "metadata": {},
     "output_type": "execute_result"
    }
   ],
   "source": [
    "import numpy as np\n",
    "#1D\n",
    "a = np.array([1, 2, 3,4,5])\n",
    "a"
   ]
  },
  {
   "cell_type": "code",
   "execution_count": 16,
   "id": "6d5e94c6",
   "metadata": {},
   "outputs": [
    {
     "data": {
      "text/plain": [
       "array([0., 0.])"
      ]
     },
     "execution_count": 16,
     "metadata": {},
     "output_type": "execute_result"
    }
   ],
   "source": [
    "b= np.zeros(2)\n",
    "b"
   ]
  },
  {
   "cell_type": "code",
   "execution_count": 23,
   "id": "faf2438b",
   "metadata": {},
   "outputs": [
    {
     "data": {
      "text/plain": [
       "array([1., 1., 1.])"
      ]
     },
     "execution_count": 23,
     "metadata": {},
     "output_type": "execute_result"
    }
   ],
   "source": [
    "c= np.ones(3)\n",
    "c"
   ]
  },
  {
   "cell_type": "code",
   "execution_count": 24,
   "id": "225c8505",
   "metadata": {},
   "outputs": [
    {
     "data": {
      "text/plain": [
       "array([1., 1., 1.])"
      ]
     },
     "execution_count": 24,
     "metadata": {},
     "output_type": "execute_result"
    }
   ],
   "source": [
    "#Create an empty array with 2 elements \n",
    "d=np.empty(3)\n",
    "d"
   ]
  },
  {
   "cell_type": "code",
   "execution_count": 26,
   "id": "406e6dcd",
   "metadata": {},
   "outputs": [
    {
     "data": {
      "text/plain": [
       "array([0, 1, 2, 3, 4, 5])"
      ]
     },
     "execution_count": 26,
     "metadata": {},
     "output_type": "execute_result"
    }
   ],
   "source": [
    "#with range of elments \n",
    "e=np.arange(6)\n",
    "e"
   ]
  },
  {
   "cell_type": "code",
   "execution_count": 27,
   "id": "b0dfa5b3",
   "metadata": {},
   "outputs": [
    {
     "data": {
      "text/plain": [
       "array([ 2,  3,  4,  5,  6,  7,  8,  9, 10, 11, 12, 13, 14, 15, 16, 17, 18,\n",
       "       19])"
      ]
     },
     "execution_count": 27,
     "metadata": {},
     "output_type": "execute_result"
    }
   ],
   "source": [
    "#with specific range of elments \n",
    "f=np.arange(2,20)\n",
    "\n",
    "f"
   ]
  },
  {
   "cell_type": "code",
   "execution_count": 28,
   "id": "261193a1",
   "metadata": {},
   "outputs": [
    {
     "data": {
      "text/plain": [
       "array([ 2,  4,  6,  8, 10, 12, 14, 16, 18])"
      ]
     },
     "execution_count": 28,
     "metadata": {},
     "output_type": "execute_result"
    }
   ],
   "source": [
    "#continue\n",
    "g=np.arange(2,20,2)\n",
    "\n",
    "g"
   ]
  },
  {
   "cell_type": "code",
   "execution_count": 34,
   "id": "897e4220",
   "metadata": {},
   "outputs": [
    {
     "data": {
      "text/plain": [
       "array([ 0. , 12.5, 25. , 37.5, 50. ])"
      ]
     },
     "execution_count": 34,
     "metadata": {},
     "output_type": "execute_result"
    }
   ],
   "source": [
    "#linerly spaces arras\n",
    "h=np.linspace(0,50, num=5) #gives use nums\n",
    "h"
   ]
  },
  {
   "cell_type": "code",
   "execution_count": 36,
   "id": "e88bbe7e",
   "metadata": {},
   "outputs": [
    {
     "data": {
      "text/plain": [
       "array([1, 1, 1, 1, 1], dtype=int8)"
      ]
     },
     "execution_count": 36,
     "metadata": {},
     "output_type": "execute_result"
    }
   ],
   "source": [
    "#Specific data types in array linerly spaces arras\n",
    "\n",
    "i=np.ones(5, dtype=np.int8) \n",
    "i"
   ]
  },
  {
   "cell_type": "code",
   "execution_count": 37,
   "id": "cfec55ea",
   "metadata": {
    "scrolled": true
   },
   "outputs": [
    {
     "data": {
      "text/plain": [
       "array([1., 1., 1.])"
      ]
     },
     "execution_count": 37,
     "metadata": {},
     "output_type": "execute_result"
    }
   ],
   "source": [
    "#linerly spaces arras\n",
    "j=np.ones(3, dtype=np.float64) \n",
    "j"
   ]
  },
  {
   "cell_type": "code",
   "execution_count": 39,
   "id": "64fb4fba",
   "metadata": {},
   "outputs": [
    {
     "data": {
      "text/plain": [
       "array([[0., 0., 0., 0.],\n",
       "       [0., 0., 0., 0.],\n",
       "       [0., 0., 0., 0.]])"
      ]
     },
     "execution_count": 39,
     "metadata": {},
     "output_type": "execute_result"
    }
   ],
   "source": [
    "np.zeros((3,4))"
   ]
  },
  {
   "cell_type": "code",
   "execution_count": 40,
   "id": "2e0ae2f2",
   "metadata": {
    "scrolled": true
   },
   "outputs": [
    {
     "data": {
      "text/plain": [
       "array([[1., 1., 1., 1., 1., 1.],\n",
       "       [1., 1., 1., 1., 1., 1.],\n",
       "       [1., 1., 1., 1., 1., 1.],\n",
       "       [1., 1., 1., 1., 1., 1.],\n",
       "       [1., 1., 1., 1., 1., 1.]])"
      ]
     },
     "execution_count": 40,
     "metadata": {},
     "output_type": "execute_result"
    }
   ],
   "source": [
    "np.ones((5,6))"
   ]
  },
  {
   "cell_type": "code",
   "execution_count": 41,
   "id": "bbcb9768",
   "metadata": {},
   "outputs": [
    {
     "data": {
      "text/plain": [
       "array([[0., 0., 0., 0.],\n",
       "       [0., 0., 0., 0.],\n",
       "       [0., 0., 0., 0.]])"
      ]
     },
     "execution_count": 41,
     "metadata": {},
     "output_type": "execute_result"
    }
   ],
   "source": [
    "np.empty((3,4))"
   ]
  },
  {
   "cell_type": "code",
   "execution_count": 42,
   "id": "42b412a7",
   "metadata": {},
   "outputs": [
    {
     "data": {
      "text/plain": [
       "array([[[ 0,  1,  2,  3],\n",
       "        [ 4,  5,  6,  7],\n",
       "        [ 8,  9, 10, 11]],\n",
       "\n",
       "       [[12, 13, 14, 15],\n",
       "        [16, 17, 18, 19],\n",
       "        [20, 21, 22, 23]]])"
      ]
     },
     "execution_count": 42,
     "metadata": {},
     "output_type": "execute_result"
    }
   ],
   "source": [
    "#3D array\n",
    "\n",
    "#making and rechaing a 3D araay \n",
    "c=np.arange(24).reshape(2,3,4)\n",
    "c\n"
   ]
  },
  {
   "cell_type": "code",
   "execution_count": 45,
   "id": "b6be8007",
   "metadata": {},
   "outputs": [
    {
     "data": {
      "text/plain": [
       "array([[[ 0,  1,  2,  3,  4],\n",
       "        [ 5,  6,  7,  8,  9],\n",
       "        [10, 11, 12, 13, 14]],\n",
       "\n",
       "       [[15, 16, 17, 18, 19],\n",
       "        [20, 21, 22, 23, 24],\n",
       "        [25, 26, 27, 28, 29]]])"
      ]
     },
     "execution_count": 45,
     "metadata": {},
     "output_type": "execute_result"
    }
   ],
   "source": [
    "#3D array\n",
    "\n",
    "#making and rechaing a 3D araay \n",
    "n=np.arange(30).reshape(2,3,5)\n",
    "n\n"
   ]
  }
 ],
 "metadata": {
  "kernelspec": {
   "display_name": "Python 3 (ipykernel)",
   "language": "python",
   "name": "python3"
  },
  "language_info": {
   "codemirror_mode": {
    "name": "ipython",
    "version": 3
   },
   "file_extension": ".py",
   "mimetype": "text/x-python",
   "name": "python",
   "nbconvert_exporter": "python",
   "pygments_lexer": "ipython3",
   "version": "3.9.7"
  }
 },
 "nbformat": 4,
 "nbformat_minor": 5
}
